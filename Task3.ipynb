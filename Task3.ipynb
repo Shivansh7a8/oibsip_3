{
  "nbformat": 4,
  "nbformat_minor": 0,
  "metadata": {
    "colab": {
      "provenance": []
    },
    "kernelspec": {
      "name": "python3",
      "display_name": "Python 3"
    },
    "language_info": {
      "name": "python"
    }
  },
  "cells": [
    {
      "cell_type": "markdown",
      "source": [
        "\n",
        "SHIVANSH Shukla\n",
        "> TASK3 \n",
        "Car Price Prediction\n",
        "\n"
      ],
      "metadata": {
        "id": "cmg8IBYkkhWH"
      }
    },
    {
      "cell_type": "code",
      "execution_count": null,
      "metadata": {
        "id": "T-V5qcc0MuRp"
      },
      "outputs": [],
      "source": [
        "import numpy as np\n",
        "import pandas as pd\n",
        "import matplotlib.pyplot as plt\n",
        "import seaborn as sns\n",
        "from sklearn.model_selection import train_test_split\n",
        "from sklearn.tree import DecisionTreeRegressor\n",
        "\n",
        "df = pd.read_csv(\"CarPrice.csv\")\n",
        "df.head()"
      ]
    },
    {
      "cell_type": "code",
      "source": [
        "df.isnull().sum()"
      ],
      "metadata": {
        "id": "x8urWZq2NNkV"
      },
      "execution_count": null,
      "outputs": []
    },
    {
      "cell_type": "code",
      "source": [
        "df.info()"
      ],
      "metadata": {
        "id": "h8h55-xdNVI4"
      },
      "execution_count": null,
      "outputs": []
    },
    {
      "cell_type": "code",
      "source": [
        "print(df.describe())"
      ],
      "metadata": {
        "id": "jspDS9-SNam6"
      },
      "execution_count": null,
      "outputs": []
    },
    {
      "cell_type": "code",
      "source": [
        "df.CarName.unique()"
      ],
      "metadata": {
        "id": "1Zoc1J_4Net7"
      },
      "execution_count": null,
      "outputs": []
    },
    {
      "cell_type": "code",
      "source": [
        "sns.set_style(\"whitegrid\")\n",
        "plt.figure(figsize=(15, 10))\n",
        "sns.distplot(df.price)\n",
        "plt.show()"
      ],
      "metadata": {
        "id": "sPIcmOvNNiHh"
      },
      "execution_count": null,
      "outputs": []
    },
    {
      "cell_type": "code",
      "source": [
        "print(df.corr())"
      ],
      "metadata": {
        "id": "aoo-g5LnNxZt"
      },
      "execution_count": null,
      "outputs": []
    },
    {
      "cell_type": "code",
      "source": [
        "plt.figure(figsize=(20, 15))\n",
        "correlations = df.corr()\n",
        "sns.heatmap(correlations, cmap=\"coolwarm\", annot=True)\n",
        "plt.show()"
      ],
      "metadata": {
        "id": "wkFC7rlJN7Wq"
      },
      "execution_count": null,
      "outputs": []
    },
    {
      "cell_type": "code",
      "source": [
        "X_train, X_test, y_train, y_test = train_test_split(df.iloc[:, :-1], \n",
        "                                                    df.iloc[:, -1], \n",
        "                                                    test_size = 0.3, \n",
        "                                                    random_state = 42)"
      ],
      "metadata": {
        "id": "LrYX_-S_OJKt"
      },
      "execution_count": null,
      "outputs": []
    },
    {
      "cell_type": "code",
      "source": [
        "make_train = X_train[\"CarName\"].str.split(\" \", expand = True)\n",
        "make_test = X_test[\"CarName\"].str.split(\" \", expand = True)\n",
        "X_train[\"CarName\"] = make_train[0]\n",
        "X_test[\"CarName\"] = make_test[0]"
      ],
      "metadata": {
        "id": "UwuXW4fJRFlc"
      },
      "execution_count": null,
      "outputs": []
    },
    {
      "cell_type": "code",
      "source": [
        "plt.figure(figsize = (12, 8))\n",
        "plot = sns.countplot(x = 'CarName', data = X_train)\n",
        "plt.xticks(rotation = 90)\n",
        "for p in plot.patches:\n",
        "    plot.annotate(p.get_height(), \n",
        "                        (p.get_x() + p.get_width() / 2.0, \n",
        "                         p.get_height()), \n",
        "                        ha = 'center', \n",
        "                        va = 'center', \n",
        "                        xytext = (0, 5),\n",
        "                        textcoords = 'offset points')\n",
        "\n",
        "plt.title(\"Count of cars based on manufacturers\")\n",
        "plt.xlabel(\"Manufacturer\")\n",
        "plt.ylabel(\"Count of cars\")"
      ],
      "metadata": {
        "id": "YGJ_3hIwQY4E"
      },
      "execution_count": null,
      "outputs": []
    },
    {
      "cell_type": "code",
      "source": [
        "predict = \"price\"\n",
        "data = df[[\"symboling\", \"wheelbase\", \"carlength\", \n",
        "             \"carwidth\", \"carheight\", \"curbweight\", \n",
        "             \"enginesize\", \"boreratio\", \"stroke\", \n",
        "             \"compressionratio\", \"horsepower\", \"peakrpm\", \n",
        "             \"citympg\", \"highwaympg\", \"price\"]]\n",
        "x = np.array(data.drop([predict], 1))\n",
        "y = np.array(data[predict])\n",
        "\n",
        "from sklearn.model_selection import train_test_split\n",
        "xtrain, xtest, ytrain, ytest = train_test_split(x, y, test_size=0.2)\n",
        "\n",
        "from sklearn.tree import DecisionTreeRegressor\n",
        "model = DecisionTreeRegressor()\n",
        "model.fit(xtrain, ytrain)\n",
        "predictions = model.predict(xtest)\n",
        "\n",
        "from sklearn.metrics import mean_absolute_error\n",
        "model.score(xtest, predictions)"
      ],
      "metadata": {
        "id": "HuB9tw47RmHh"
      },
      "execution_count": null,
      "outputs": []
    },
    {
      "cell_type": "markdown",
      "source": [
        "The model gives 100% accuracy on the test set, which is excellent."
      ],
      "metadata": {
        "id": "JkU7sp-SObkV"
      }
    }
  ]
}